{
  "nbformat": 4,
  "nbformat_minor": 0,
  "metadata": {
    "colab": {
      "provenance": [],
      "authorship_tag": "ABX9TyPnKA0QmfzfH5PhrqMvD3Oq",
      "include_colab_link": true
    },
    "kernelspec": {
      "name": "python3",
      "display_name": "Python 3"
    },
    "language_info": {
      "name": "python"
    }
  },
  "cells": [
    {
      "cell_type": "markdown",
      "metadata": {
        "id": "view-in-github",
        "colab_type": "text"
      },
      "source": [
        "<a href=\"https://colab.research.google.com/github/sandguine/cicero/blob/main/original_code_from_dpc.ipynb\" target=\"_parent\"><img src=\"https://colab.research.google.com/assets/colab-badge.svg\" alt=\"Open In Colab\"/></a>"
      ]
    },
    {
      "cell_type": "markdown",
      "source": [
        "Failed Stuff from CICERO"
      ],
      "metadata": {
        "id": "ES0nlBl80APo"
      }
    },
    {
      "cell_type": "markdown",
      "source": [
        "####Failed miniconda installation according to GitRepo.\n",
        "Failed installation 1:"
      ],
      "metadata": {
        "id": "ddeSskDKs2RE"
      }
    },
    {
      "cell_type": "code",
      "source": [
        "# Keep?\n",
        "!wget --quiet https://repo.anaconda.com/miniconda/Miniconda3-4.7.10-Linux-x86_64.sh -O ~/miniconda.sh\n",
        "!bash ~/miniconda.sh -bfp\n",
        "!echo $PYTHONPATH\n",
        "!unset PYTHONPATH\n",
        "!echo 'export PYTHONPATH=/root/miniconda3/lib/python3.7/site-packages/' >> ~/.bashrc\n",
        "!source ~/.bashrc\n",
        "!echo $PYTHONPATH"
      ],
      "metadata": {
        "colab": {
          "base_uri": "https://localhost:8080/"
        },
        "id": "LnUb17QkTBKX",
        "outputId": "545353e3-d83a-473e-a25d-e52288dea5d0"
      },
      "execution_count": null,
      "outputs": [
        {
          "output_type": "stream",
          "name": "stdout",
          "text": [
            "PREFIX=/root/miniconda3\n",
            "Unpacking payload ...\n",
            "Collecting package metadata (current_repodata.json): - \b\b\\ \b\bdone\n",
            "Solving environment: / \b\b- \b\b\\ \b\b| \b\b/ \b\b- \b\bdone\n",
            "\n",
            "# All requested packages already installed.\n",
            "\n",
            "installation finished.\n",
            "WARNING:\n",
            "    You currently have a PYTHONPATH environment variable set. This may cause\n",
            "    unexpected behavior when running the Python interpreter in Miniconda3.\n",
            "    For best results, please verify that your PYTHONPATH only points to\n",
            "    directories of packages that are compatible with the Python interpreter\n",
            "    in Miniconda3: /root/miniconda3\n",
            "/env/python\n",
            "/env/python\n"
          ]
        }
      ]
    },
    {
      "cell_type": "markdown",
      "source": [
        "Failed installation 2:"
      ],
      "metadata": {
        "id": "XzI0OF-tmsgE"
      }
    },
    {
      "cell_type": "code",
      "source": [
        "# Keep?\n",
        "!wget --quiet https://repo.anaconda.com/miniconda/Miniconda3-latest-Linux-x86_64.sh -O ~/miniconda.sh\n",
        "!bash ~/miniconda.sh -bfp /root/miniconda3/ -u python=3.7\n",
        "!echo $PYTHONPATH\n",
        "!unset PYTHONPATH\n",
        "!echo 'export PYTHONPATH=/root/miniconda3/lib/python3.7/site-packages/' >> ~/.bashrc\n",
        "!echo -e '# >>> conda initialize >>>\\n# !! Contents within this block are managed by '\\''conda init'\\'' !!\\n\\n__conda_setup=\"$('\\''/root/miniconda3/bin/conda'\\'' '\\''shell.bash'\\'' '\\''hook'\\'' 2> /dev/null)\"\\nif [ $? -eq 0 ]; then\\n    eval \"$__conda_setup\"\\nelse\\n    if [ -f \"'\\''/root/miniconda3/etc/profile.d/conda.sh'\\''\" ]; then\\n        . \"'\\''/root/miniconda3/etc/profile.d/conda.sh'\\''\"\\n    else\\n        export PATH=\"'\\''/root/miniconda3/bin:$PATH'\\''\"\\n    fi\\nfi\\n# <<< conda initialize <<<' >> ~/.bashrc\n",
        "!source ~/.bashrc\n",
        "!echo $PYTHONPATH\n",
        "!which conda"
      ],
      "metadata": {
        "colab": {
          "base_uri": "https://localhost:8080/"
        },
        "outputId": "eeb23de9-0302-4d39-98a5-24d9e7941f38",
        "id": "V6ziBcWJebP0"
      },
      "execution_count": null,
      "outputs": [
        {
          "output_type": "stream",
          "name": "stdout",
          "text": [
            "/env/python\n"
          ]
        }
      ]
    },
    {
      "cell_type": "markdown",
      "source": [
        "Check what bashrc looks like"
      ],
      "metadata": {
        "id": "B8MYLF-fmwFr"
      }
    },
    {
      "cell_type": "code",
      "source": [
        "!cat ~/.bashrc"
      ],
      "metadata": {
        "colab": {
          "base_uri": "https://localhost:8080/"
        },
        "id": "LfKG6tgvcsVu",
        "outputId": "18f54a6a-5361-4702-b70d-c37bcce0700f"
      },
      "execution_count": null,
      "outputs": [
        {
          "output_type": "stream",
          "name": "stdout",
          "text": [
            "# If not running interactively, don't do anything\n",
            "[ -z \"$PS1\" ] && return\n",
            "\n",
            "# don't put duplicate lines in the history. See bash(1) for more options\n",
            "# ... or force ignoredups and ignorespace\n",
            "HISTCONTROL=ignoredups:ignorespace\n",
            "\n",
            "# append to the history file, don't overwrite it\n",
            "shopt -s histappend\n",
            "\n",
            "# for setting history length see HISTSIZE and HISTFILESIZE in bash(1)\n",
            "HISTSIZE=1000\n",
            "HISTFILESIZE=2000\n",
            "\n",
            "# check the window size after each command and, if necessary,\n",
            "# update the values of LINES and COLUMNS.\n",
            "shopt -s checkwinsize\n",
            "\n",
            "# make less more friendly for non-text input files, see lesspipe(1)\n",
            "[ -x /usr/bin/lesspipe ] && eval \"$(SHELL=/bin/sh lesspipe)\"\n",
            "\n",
            "PS1='\\[\\033[01;34m\\]\\w\\[\\033[00m\\]\\$ '\n",
            "\n",
            "# enable color support of ls and also add handy aliases\n",
            "if [ -x /usr/bin/dircolors ]; then\n",
            "    test -r ~/.dircolors && eval \"$(dircolors -b ~/.dircolors)\" || eval \"$(dircolors -b)\"\n",
            "    alias ls='ls --color=auto'\n",
            "    #alias dir='dir --color=auto'\n",
            "    #alias vdir='vdir --color=auto'\n",
            "\n",
            "    alias grep='grep --color=auto'\n",
            "    alias fgrep='fgrep --color=auto'\n",
            "    alias egrep='egrep --color=auto'\n",
            "fi\n",
            "\n",
            "# some more ls aliases\n",
            "alias ll='ls -alF'\n",
            "alias la='ls -A'\n",
            "alias l='ls -CF'\n",
            "\n",
            "export PYTHONPATH=/root/miniconda3/lib/python3.7/site-packages/\n",
            "export CONDA=/usr/local/miniconda3/bin:$CONDA\n",
            "export CONDA=/usr/local/miniconda3/bin:$CONDA\n",
            "# >>> conda initialize >>>\n",
            "# !! Contents within this block are managed by 'conda init' !!\n",
            "\n",
            "__conda_setup=\"$('/root/miniconda3/bin/conda' 'shell.bash' 'hook' 2> /dev/null)\"\n",
            "if [ $? -eq 0 ]; then\n",
            "    eval \"$__conda_setup\"\n",
            "else\n",
            "    if [ -f \"'/root/miniconda3/etc/profile.d/conda.sh'\" ]; then\n",
            "        . \"'/root/miniconda3/etc/profile.d/conda.sh'\"\n",
            "    else\n",
            "        export PATH=\"'/root/miniconda3/bin:$PATH'\"\n",
            "    fi\n",
            "fi\n",
            "# <<< conda initialize <<<\n"
          ]
        }
      ]
    },
    {
      "cell_type": "code",
      "source": [],
      "metadata": {
        "id": "Gmxw3-MduUBh"
      },
      "execution_count": null,
      "outputs": []
    },
    {
      "cell_type": "code",
      "execution_count": null,
      "metadata": {
        "id": "1S7_yJZlz_pZ"
      },
      "outputs": [],
      "source": []
    }
  ]
}